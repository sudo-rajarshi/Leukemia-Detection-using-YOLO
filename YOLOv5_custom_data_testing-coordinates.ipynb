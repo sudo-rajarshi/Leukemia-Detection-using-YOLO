{
 "cells": [
  {
   "cell_type": "code",
   "execution_count": 1,
   "metadata": {},
   "outputs": [
    {
     "name": "stdout",
     "output_type": "stream",
     "text": [
      "/mnt/87433d53-66f3-438e-a7f4-fc990fe61283/PROJECTS/yolov5\n"
     ]
    }
   ],
   "source": [
    "%cd /mnt/87433d53-66f3-438e-a7f4-fc990fe61283/PROJECTS/yolov5/"
   ]
  },
  {
   "cell_type": "code",
   "execution_count": 2,
   "metadata": {},
   "outputs": [
    {
     "name": "stdout",
     "output_type": "stream",
     "text": [
      "Setup complete. Using torch 1.11.0+cu102 (GeForce RTX 2060)\n"
     ]
    }
   ],
   "source": [
    "import os\n",
    "import torch\n",
    "import cv2\n",
    "import numpy as np\n",
    "import pandas as pd\n",
    "import matplotlib.pyplot as plt\n",
    "from IPython.display import Image, clear_output\n",
    "import warnings\n",
    "warnings.filterwarnings(\"ignore\")\n",
    "\n",
    "clear_output()\n",
    "print(f\"Setup complete. Using torch {torch.__version__} ({torch.cuda.get_device_properties(0).name if torch.cuda.is_available() else 'CPU'})\")"
   ]
  },
  {
   "cell_type": "markdown",
   "metadata": {},
   "source": [
    "# Inference"
   ]
  },
  {
   "cell_type": "code",
   "execution_count": 3,
   "metadata": {},
   "outputs": [
    {
     "name": "stderr",
     "output_type": "stream",
     "text": [
      "Using cache found in /home/rajarshi/.cache/torch/hub/ultralytics_yolov5_master\n",
      "YOLOv5 🚀 2022-6-5 Python-3.8.5 torch-1.11.0+cu102 CUDA:0 (GeForce RTX 2060, 5931MiB)\n",
      "\n",
      "Fusing layers... \n",
      "Model summary: 213 layers, 7015519 parameters, 0 gradients, 15.8 GFLOPs\n",
      "Adding AutoShape... \n"
     ]
    }
   ],
   "source": [
    "# Model\n",
    "model = torch.hub.load('ultralytics/yolov5', 'custom', path = '/mnt/87433d53-66f3-438e-a7f4-fc990fe61283/PROJECTS/yolov5/runs/train/exp3/weights/best.pt')  # or yolov5m, yolov5l, yolov5x, custom"
   ]
  },
  {
   "cell_type": "code",
   "execution_count": 4,
   "metadata": {},
   "outputs": [
    {
     "data": {
      "text/plain": [
       "array([[     627.26,      1167.7,      690.85,      1243.5,     0.46492,           0],\n",
       "       [     1532.2,      508.91,        1597,      572.23,     0.43183,           1],\n",
       "       [     757.38,      857.87,      817.84,      928.15,     0.40166,           0],\n",
       "       [     846.74,       977.6,      911.72,      1039.2,     0.37993,           1],\n",
       "       [     1545.4,      495.25,      1598.7,      551.56,     0.36927,           1],\n",
       "       [     843.32,      999.68,      905.22,      1064.6,     0.34807,           1],\n",
       "       [     1545.9,      534.74,      1600.6,      590.53,     0.33886,           1],\n",
       "       [     850.84,      948.85,      910.18,      1011.4,     0.32702,           1],\n",
       "       [     708.19,      701.14,       773.9,       766.4,     0.30429,           1],\n",
       "       [     1133.9,      985.31,      1207.2,      1062.1,     0.26561,           0],\n",
       "       [     1526.2,      533.32,      1578.9,      592.95,      0.2622,           1],\n",
       "       [     573.32,      839.31,       627.9,      911.38,     0.25175,           0]], dtype=float32)"
      ]
     },
     "execution_count": 4,
     "metadata": {},
     "output_type": "execute_result"
    }
   ],
   "source": [
    "results = model('/mnt/036b1314-13ad-429f-b9f9-07467946c5d7/Datasets/Health/Leukomia/ALL-IDB/train/Im002_1.jpg')\n",
    "coordinates = results.xyxy[0].cpu().numpy()\n",
    "coordinates"
   ]
  },
  {
   "cell_type": "code",
   "execution_count": null,
   "metadata": {},
   "outputs": [],
   "source": [
    "data_root_dir = '/mnt/87433d53-66f3-438e-a7f4-fc990fe61283/PROJECTS/JRF/Rat-Brain-Images-Segmentation'\n",
    "\n",
    "group = 'Test'\n",
    "folder = 'labels'\n",
    "raw_img_dir = os.path.join(data_root_dir, 'images', group)\n",
    "output_dir = os.path.join(data_root_dir, 'output', group, folder)"
   ]
  },
  {
   "cell_type": "code",
   "execution_count": null,
   "metadata": {},
   "outputs": [],
   "source": [
    "# YOLO to COCO Conversion\n",
    "def yolo_coord(i):\n",
    "    image_width = 1200\n",
    "    image_height = 900\n",
    "    x_coco = i[1]\n",
    "    y_coco = i[2]\n",
    "    width_coco = i[3]\n",
    "    height_coco = i[4]\n",
    "    class_no = 0\n",
    "    \n",
    "    \n",
    "    x_yolo = (x_coco + width_coco)/2\n",
    "    y_yolo = (y_coco + height_coco)/2\n",
    "    \n",
    "    if x_coco > width_coco:\n",
    "        width_yolo = x_coco - width_coco\n",
    "    else:\n",
    "        width_yolo = width_coco - x_coco\n",
    "        \n",
    "    if y_coco > height_coco:\n",
    "        height_yolo = y_coco - height_coco\n",
    "    else:\n",
    "        height_yolo = height_coco - y_coco\n",
    "    \n",
    "    return [class_no, x_yolo, y_yolo, width_yolo, height_yolo] "
   ]
  },
  {
   "cell_type": "code",
   "execution_count": null,
   "metadata": {},
   "outputs": [],
   "source": [
    "# Model\n",
    "wts_path = '/mnt/87433d53-66f3-438e-a7f4-fc990fe61283/PROJECTS/yolov5/runs/train/exp3/weights/best.pt'\n",
    "model = torch.hub.load('ultralytics/yolov5', 'custom', path = wts_path)\n",
    "\n",
    "for filename in os.listdir(raw_img_dir):\n",
    "    file = os.path.join(raw_img_dir, filename)\n",
    "    \n",
    "    results = model(file)\n",
    "\n",
    "    coordinates = results.xyxy[0].cpu().numpy()\n",
    "    final_lis_coco = []\n",
    "    for i in coordinates:\n",
    "        lis = []\n",
    "        for j in i:\n",
    "            lis.append(j)\n",
    "        lis.insert(0, lis.pop())\n",
    "        lis.remove(lis[-1])\n",
    "\n",
    "        final_lis_coco.append(lis) \n",
    "    \n",
    "    final_lis_yolo = []\n",
    "    for i in final_lis_coco:\n",
    "        final_lis_yolo.append(yolo_coord(i))\n",
    "        \n",
    "    txt = open(os.path.join(output_dir, f'{filename[:-4]}.txt'), 'w+')\n",
    "    for j in final_lis_yolo:\n",
    "        txt.write(str(j) + \"\\n\")\n",
    "    txt.close()\n",
    "    \n",
    "    txt = open(os.path.join(output_dir, f'{filename[:-4]}.txt'), 'r')\n",
    "    txt_read = txt.read()\n",
    "    file = txt_read.replace('[', '').replace(']', '').replace(',', ' ')\n",
    "    txt = open(os.path.join(output_dir, f'{filename[:-4]}.txt'), 'w+')\n",
    "    txt.write(file)\n",
    "    txt.close()"
   ]
  },
  {
   "cell_type": "code",
   "execution_count": null,
   "metadata": {},
   "outputs": [],
   "source": []
  }
 ],
 "metadata": {
  "kernelspec": {
   "display_name": "Python 3 (ipykernel)",
   "language": "python",
   "name": "python3"
  },
  "language_info": {
   "codemirror_mode": {
    "name": "ipython",
    "version": 3
   },
   "file_extension": ".py",
   "mimetype": "text/x-python",
   "name": "python",
   "nbconvert_exporter": "python",
   "pygments_lexer": "ipython3",
   "version": "3.8.5"
  }
 },
 "nbformat": 4,
 "nbformat_minor": 4
}
