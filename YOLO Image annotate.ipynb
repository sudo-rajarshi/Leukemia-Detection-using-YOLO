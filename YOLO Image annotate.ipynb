{
 "cells": [
  {
   "cell_type": "code",
   "execution_count": 2,
   "id": "4be043ce",
   "metadata": {},
   "outputs": [
    {
     "data": {
      "text/plain": [
       "'0 0.090587 0.266506 0.049383 0.043210\\n0 0.150258 0.438317 0.057613 0.049383\\n0 0.309890 0.709922 0.046991 0.041152\\n0 0.747995 0.219181 0.047325 0.047325\\n0 0.294968 0.229319 0.044582 0.047024\\n0 0.883960 0.186623 0.046296 0.039823\\n0 0.348981 0.617200 0.036008 0.046296\\n0 0.105496 0.197104 0.036008 0.042867\\n0 0.153507 0.686644 0.049726 0.044582\\n0 0.606019 0.117329 0.043210 0.045267'"
      ]
     },
     "execution_count": 2,
     "metadata": {},
     "output_type": "execute_result"
    }
   ],
   "source": [
    "txt = open('/mnt/87433d53-66f3-438e-a7f4-fc990fe61283/PROJECTS/JRF/Rat-Brain-Images-Segmentation/YOLO_data/labels/val/Gr1-R1-1-1.txt', 'r')\n",
    "data = txt.read()\n",
    "data"
   ]
  },
  {
   "cell_type": "code",
   "execution_count": 3,
   "id": "74eb39e7",
   "metadata": {},
   "outputs": [
    {
     "data": {
      "text/plain": [
       "['0 0.090587 0.266506 0.049383 0.043210',\n",
       " '0 0.150258 0.438317 0.057613 0.049383',\n",
       " '0 0.309890 0.709922 0.046991 0.041152',\n",
       " '0 0.747995 0.219181 0.047325 0.047325',\n",
       " '0 0.294968 0.229319 0.044582 0.047024',\n",
       " '0 0.883960 0.186623 0.046296 0.039823',\n",
       " '0 0.348981 0.617200 0.036008 0.046296',\n",
       " '0 0.105496 0.197104 0.036008 0.042867',\n",
       " '0 0.153507 0.686644 0.049726 0.044582',\n",
       " '0 0.606019 0.117329 0.043210 0.045267']"
      ]
     },
     "execution_count": 3,
     "metadata": {},
     "output_type": "execute_result"
    }
   ],
   "source": [
    "arr = data.split(\"\\n\")\n",
    "arr"
   ]
  },
  {
   "cell_type": "code",
   "execution_count": 5,
   "id": "f00377e8",
   "metadata": {},
   "outputs": [
    {
     "data": {
      "text/plain": [
       "'0 0.090587 0.266506 0.049383 0.043210'"
      ]
     },
     "execution_count": 5,
     "metadata": {},
     "output_type": "execute_result"
    }
   ],
   "source": [
    "arr[0]"
   ]
  },
  {
   "cell_type": "code",
   "execution_count": 4,
   "id": "c4c3c39f",
   "metadata": {},
   "outputs": [
    {
     "name": "stdout",
     "output_type": "stream",
     "text": [
      "[0.0, 0.090587, 0.266506, 0.049383, 0.04321, 0.0, 0.150258, 0.438317, 0.057613, 0.049383, 0.0, 0.30989, 0.709922, 0.046991, 0.041152, 0.0, 0.747995, 0.219181, 0.047325, 0.047325, 0.0, 0.294968, 0.229319, 0.044582, 0.047024, 0.0, 0.88396, 0.186623, 0.046296, 0.039823, 0.0, 0.348981, 0.6172, 0.036008, 0.046296, 0.0, 0.105496, 0.197104, 0.036008, 0.042867, 0.0, 0.153507, 0.686644, 0.049726, 0.044582, 0.0, 0.606019, 0.117329, 0.04321, 0.045267]\n"
     ]
    }
   ],
   "source": [
    "lis = []\n",
    "for i in arr:\n",
    "    x = i.split(' ')\n",
    "#     print(x)\n",
    "    for j in x:\n",
    "        y = float(j)\n",
    "#         print(y)\n",
    "        lis.append(y)\n",
    "print(lis)\n"
   ]
  },
  {
   "cell_type": "code",
   "execution_count": null,
   "id": "b6c52fad",
   "metadata": {},
   "outputs": [],
   "source": [
    "lis = []\n",
    "for i in arr:\n",
    "    x = i.split(' ')\n",
    "    print(x)\n",
    "    for j in x:\n",
    "        y = float(j)\n",
    "#         print(y)\n",
    "#         lis.append(y)\n",
    "# print(lis)\n"
   ]
  },
  {
   "cell_type": "code",
   "execution_count": null,
   "id": "b88b10ea",
   "metadata": {},
   "outputs": [],
   "source": [
    "import numpy as np\n",
    "lis1 = []\n",
    "splits = np.array_split(lis, 22)\n",
    "for array in splits:\n",
    "    lis1.append(array)\n",
    "lis1"
   ]
  },
  {
   "cell_type": "code",
   "execution_count": null,
   "id": "16215cfe",
   "metadata": {},
   "outputs": [],
   "source": [
    "lis = []\n",
    "for i in arr:\n",
    "    a = i.split(',')\n",
    "    for j in a:\n",
    "        b = j.split(' ')\n",
    "        lis1 = []\n",
    "        for k in b:\n",
    "            y = float(k)\n",
    "            lis1.append(y)\n",
    "        lis.append(lis1)\n",
    "    cnt += 1\n",
    "print(lis)"
   ]
  },
  {
   "cell_type": "code",
   "execution_count": null,
   "id": "29658927",
   "metadata": {},
   "outputs": [],
   "source": [
    "/mnt/87433d53-66f3-438e-a7f4-fc990fe61283/PROJECTS/JRF/Rat-Brain-Images-Segmentation/YOLO_data/labels"
   ]
  }
 ],
 "metadata": {
  "kernelspec": {
   "display_name": "Python 3 (ipykernel)",
   "language": "python",
   "name": "python3"
  },
  "language_info": {
   "codemirror_mode": {
    "name": "ipython",
    "version": 3
   },
   "file_extension": ".py",
   "mimetype": "text/x-python",
   "name": "python",
   "nbconvert_exporter": "python",
   "pygments_lexer": "ipython3",
   "version": "3.8.5"
  }
 },
 "nbformat": 4,
 "nbformat_minor": 5
}
