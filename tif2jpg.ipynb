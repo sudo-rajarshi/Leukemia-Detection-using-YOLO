{
 "cells": [
  {
   "cell_type": "code",
   "execution_count": 1,
   "id": "37f2e892",
   "metadata": {},
   "outputs": [],
   "source": [
    "import os\n",
    "import cv2\n",
    "import numpy as np"
   ]
  },
  {
   "cell_type": "code",
   "execution_count": 2,
   "id": "f4a18d6a",
   "metadata": {},
   "outputs": [],
   "source": [
    "ip_dir = '/mnt/036b1314-13ad-429f-b9f9-07467946c5d7/Datasets/Health/Leukomia/ALL-IDB/test-tif'\n",
    "op_dir = '/mnt/036b1314-13ad-429f-b9f9-07467946c5d7/Datasets/Health/Leukomia/ALL-IDB/test-jpg'\n",
    "\n",
    "for filename in os.listdir(ip_dir):\n",
    "    file = os.path.join(ip_dir, filename)\n",
    "    img = cv2.imread(file)\n",
    "#     print(img.shape)\n",
    "    cv2.imwrite(os.path.join(op_dir, filename[:-4]+'.jpg'), img)"
   ]
  },
  {
   "cell_type": "code",
   "execution_count": null,
   "id": "f7c427fa",
   "metadata": {},
   "outputs": [],
   "source": []
  }
 ],
 "metadata": {
  "kernelspec": {
   "display_name": "Python 3 (ipykernel)",
   "language": "python",
   "name": "python3"
  },
  "language_info": {
   "codemirror_mode": {
    "name": "ipython",
    "version": 3
   },
   "file_extension": ".py",
   "mimetype": "text/x-python",
   "name": "python",
   "nbconvert_exporter": "python",
   "pygments_lexer": "ipython3",
   "version": "3.8.5"
  }
 },
 "nbformat": 4,
 "nbformat_minor": 5
}
